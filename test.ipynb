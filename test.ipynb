{
 "cells": [
  {
   "cell_type": "code",
   "id": "initial_id",
   "metadata": {
    "collapsed": true,
    "ExecuteTime": {
     "end_time": "2024-07-24T10:18:17.402209Z",
     "start_time": "2024-07-24T10:18:15.020059Z"
    }
   },
   "source": "import pandas as pd",
   "outputs": [],
   "execution_count": 2
  },
  {
   "metadata": {
    "ExecuteTime": {
     "end_time": "2024-07-24T10:20:28.108425Z",
     "start_time": "2024-07-24T10:20:28.036356Z"
    }
   },
   "cell_type": "code",
   "source": [
    "df = pd.read_excel('car_rev.xlsx', usecols = ['Review'])\n",
    "\n",
    "# Display the DataFrame\n",
    "print(df)"
   ],
   "id": "61975f27afdb8d53",
   "outputs": [
    {
     "name": "stdout",
     "output_type": "stream",
     "text": [
      "                                                Review\n",
      "0                     Beautiful car.  Love all aspects\n",
      "1     We picked this car as a CPO from a BMW dealer...\n",
      "2     Get ride of the run flats.   If you like to d...\n",
      "3     1.\\tDealership was a joke to work with, lied ...\n",
      "4                        Handy as a pocket on a shirt.\n",
      "..                                                 ...\n",
      "295   I've owned my launch vehicle for 4 _x000D_mon...\n",
      "296   This could be the neatest car I've _x000D_eve...\n",
      "297   This car is just off the wall it is a _x000D_...\n",
      "298                          all i can say its unreal \n",
      "299   This is a fabulous ride.The BMW 6 ci _x000D_c...\n",
      "\n",
      "[300 rows x 1 columns]\n"
     ]
    }
   ],
   "execution_count": 10
  },
  {
   "metadata": {
    "ExecuteTime": {
     "end_time": "2024-07-24T10:20:29.352117Z",
     "start_time": "2024-07-24T10:20:29.341200Z"
    }
   },
   "cell_type": "code",
   "source": [
    "#converting review col to string\n",
    "df[['Review']] = df[[ 'Review']].astype(str)\n",
    "print(\"\\nTypes of data conversion:\\n\",df.dtypes)"
   ],
   "id": "b866d08485624256",
   "outputs": [
    {
     "name": "stdout",
     "output_type": "stream",
     "text": [
      "\n",
      "Types of data conversion:\n",
      " Review    object\n",
      "dtype: object\n"
     ]
    }
   ],
   "execution_count": 11
  },
  {
   "metadata": {
    "ExecuteTime": {
     "end_time": "2024-07-24T10:20:33.209197Z",
     "start_time": "2024-07-24T10:20:30.178517Z"
    }
   },
   "cell_type": "code",
   "source": [
    "#converting review col to string\n",
    "df[['Review']] = df[[ 'Review']].astype(str)\n",
    "print(\"\\nTypes of data conversion:\\n\",df.dtypes)\n",
    "new = df[\"Review\"].copy()\n",
    "rev =df[\"Review\"].str.cat(new,sep=\"\\n\")\n",
    "print(rev)\n",
    "\n",
    "\n",
    "from openai import OpenAI\n",
    "\n",
    "\n",
    "\n",
    "client = OpenAI(\n",
    "    # This is the default and can be omitted\n",
    "    api_key= 'api key',\n",
    ")\n",
    "\n",
    "response = client.chat.completions.create(\n",
    "  model=\"gpt-4o-mini\",\n",
    "  messages=[\n",
    "    {\n",
    "      \"role\": \"system\",\n",
    "      \"content\": \"You are a data analyst and you have to give precisely the information from given reviews. You must see all the positive and negative reviews and classify them according to column Review.\"\n",
    "    },\n",
    "    {\n",
    "      \"role\": \"user\",\n",
    "      \"content\": \"You will be presented with user reviews and your job is to provide a set of positive and negative reviews. Provide your answer in bullet point form. Choose ONLY from the list of tags provided here (choose either the positive or the negative tag but NOT both):\\n    \\n    - Provides good value for the price OR Costs too much\\n    - Works better than expected OR Did not work as well as expected\\n    - Includes essential features OR Lacks essential features\\n    - Easy to use OR Difficult to use\\n    - High quality and durability OR Poor quality and durability\\n    - Easy and affordable to maintain or repair OR Difficult or costly to maintain or repair\\n    - Easy to transport OR Difficult to transport\\n    - Easy to store OR Difficult to store\\n    - Compatible with other devices or systems OR Not compatible with other devices or systems\\n    - Safe and user-friendly OR Unsafe or hazardous to use\\n    - Excellent customer support OR Poor customer support\\n    - Generous and comprehensive warranty OR Limited or insufficient warranty\" + \"{rev}\"\n",
    "    },\n",
    "  ]\n",
    ")\n",
    "\n",
    "print(response)"
   ],
   "id": "f0facfb6f76591a5",
   "outputs": [
    {
     "name": "stdout",
     "output_type": "stream",
     "text": [
      "\n",
      "Types of data conversion:\n",
      " Review    object\n",
      "dtype: object\n",
      "0       Beautiful car.  Love all aspects\\n Beautiful ...\n",
      "1       We picked this car as a CPO from a BMW dealer...\n",
      "2       Get ride of the run flats.   If you like to d...\n",
      "3       1.\\tDealership was a joke to work with, lied ...\n",
      "4       Handy as a pocket on a shirt.\\n Handy as a po...\n",
      "                             ...                        \n",
      "295     I've owned my launch vehicle for 4 _x000D_mon...\n",
      "296     This could be the neatest car I've _x000D_eve...\n",
      "297     This car is just off the wall it is a _x000D_...\n",
      "298     all i can say its unreal \\n all i can say its...\n",
      "299     This is a fabulous ride.The BMW 6 ci _x000D_c...\n",
      "Name: Review, Length: 300, dtype: object\n",
      "ChatCompletion(id='chatcmpl-9oTOfRJGWetO1cZFqeMVWAEsMWoxQ', choices=[Choice(finish_reason='stop', index=0, logprobs=None, message=ChatCompletionMessage(content='**Positive Reviews:**\\n\\n- Provides good value for the price\\n- Works better than expected\\n- Includes essential features\\n- Easy to use\\n- High quality and durability\\n- Easy and affordable to maintain or repair\\n- Easy to transport\\n- Easy to store\\n- Compatible with other devices or systems\\n- Safe and user-friendly\\n- Excellent customer support\\n- Generous and comprehensive warranty\\n\\n**Negative Reviews:**\\n\\n- Costs too much\\n- Did not work as well as expected\\n- Lacks essential features\\n- Difficult to use\\n- Poor quality and durability\\n- Difficult or costly to maintain or repair\\n- Difficult to transport\\n- Difficult to store\\n- Not compatible with other devices or systems\\n- Unsafe or hazardous to use\\n- Poor customer support\\n- Limited or insufficient warranty', role='assistant', function_call=None, tool_calls=None))], created=1721816429, model='gpt-4o-mini-2024-07-18', object='chat.completion', service_tier=None, system_fingerprint='fp_661538dc1f', usage=CompletionUsage(completion_tokens=161, prompt_tokens=251, total_tokens=412))\n"
     ]
    }
   ],
   "execution_count": 12
  },
  {
   "metadata": {
    "ExecuteTime": {
     "end_time": "2024-07-24T10:20:34.491869Z",
     "start_time": "2024-07-24T10:20:34.485460Z"
    }
   },
   "cell_type": "code",
   "source": "message = response.choices[0].message.content",
   "id": "4df2f77c4caeb60f",
   "outputs": [],
   "execution_count": 13
  },
  {
   "metadata": {
    "ExecuteTime": {
     "end_time": "2024-07-24T10:20:36.248394Z",
     "start_time": "2024-07-24T10:20:36.242186Z"
    }
   },
   "cell_type": "code",
   "source": "print(message)",
   "id": "71bd2dd2e330a2b9",
   "outputs": [
    {
     "name": "stdout",
     "output_type": "stream",
     "text": [
      "**Positive Reviews:**\n",
      "\n",
      "- Provides good value for the price\n",
      "- Works better than expected\n",
      "- Includes essential features\n",
      "- Easy to use\n",
      "- High quality and durability\n",
      "- Easy and affordable to maintain or repair\n",
      "- Easy to transport\n",
      "- Easy to store\n",
      "- Compatible with other devices or systems\n",
      "- Safe and user-friendly\n",
      "- Excellent customer support\n",
      "- Generous and comprehensive warranty\n",
      "\n",
      "**Negative Reviews:**\n",
      "\n",
      "- Costs too much\n",
      "- Did not work as well as expected\n",
      "- Lacks essential features\n",
      "- Difficult to use\n",
      "- Poor quality and durability\n",
      "- Difficult or costly to maintain or repair\n",
      "- Difficult to transport\n",
      "- Difficult to store\n",
      "- Not compatible with other devices or systems\n",
      "- Unsafe or hazardous to use\n",
      "- Poor customer support\n",
      "- Limited or insufficient warranty\n"
     ]
    }
   ],
   "execution_count": 14
  },
  {
   "metadata": {},
   "cell_type": "code",
   "outputs": [],
   "execution_count": null,
   "source": "",
   "id": "21d2aad854d4f478"
  }
 ],
 "metadata": {
  "kernelspec": {
   "display_name": "Python 3",
   "language": "python",
   "name": "python3"
  },
  "language_info": {
   "codemirror_mode": {
    "name": "ipython",
    "version": 2
   },
   "file_extension": ".py",
   "mimetype": "text/x-python",
   "name": "python",
   "nbconvert_exporter": "python",
   "pygments_lexer": "ipython2",
   "version": "2.7.6"
  }
 },
 "nbformat": 4,
 "nbformat_minor": 5
}
